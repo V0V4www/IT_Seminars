{
 "cells": [
  {
   "cell_type": "code",
   "execution_count": 1,
   "id": "97aa5393-99c9-476f-999a-0fdf5681efaf",
   "metadata": {},
   "outputs": [
    {
     "name": "stdin",
     "output_type": "stream",
     "text": [
      " 6\n",
      " 1\n",
      " 1\n",
      " 2\n",
      " 2\n"
     ]
    }
   ],
   "source": [
    "N, x_0, y_0, x, y = [int(input()) for _ in range(5)]"
   ]
  },
  {
   "cell_type": "code",
   "execution_count": 2,
   "id": "d6ea6381-b6e5-4223-9c6e-77614888f494",
   "metadata": {},
   "outputs": [],
   "source": [
    "BIG_NUM = 10**6\n",
    "\n",
    "adj_list = [[] for _ in range(N*N)]\n",
    "for i in range(N):\n",
    "    for j in range(N):\n",
    "        for di, dj in [(1, 2), (1, -2), (-1, 2), (-1, -2), (2, 1), (2, -1), (-2, 1), (-2, -1)]:\n",
    "            if 0 <= i + di < N and 0 <= j + dj < N:\n",
    "                adj_list[N*i + j].append(N*(i+di) + (j+dj))"
   ]
  },
  {
   "cell_type": "code",
   "execution_count": 3,
   "id": "f14c3b27-2d75-4759-816a-a47e8bd01c4d",
   "metadata": {},
   "outputs": [],
   "source": [
    "def bfs(adj_list, src):\n",
    "    vert_num = len(adj_list)\n",
    "    dist = [BIG_NUM for _ in range(vert_num)]\n",
    "    dist[src] = 0\n",
    "    queue = [src]\n",
    "\n",
    "    while queue and dist[N * x + y] == BIG_NUM:\n",
    "        u = queue.pop(0)\n",
    "        for v in adj_list[u]:\n",
    "            if dist[v] == BIG_NUM:\n",
    "                dist[v] = dist[u] + 1\n",
    "                queue.append(v)\n",
    "            if dist[N * x + y] != BIG_NUM:\n",
    "                break\n",
    "\n",
    "    return dist[N * x + y]"
   ]
  },
  {
   "cell_type": "code",
   "execution_count": 4,
   "id": "5cc2fe21-0834-4880-b4cd-faf1d4daf0d7",
   "metadata": {},
   "outputs": [
    {
     "name": "stdout",
     "output_type": "stream",
     "text": [
      "2\n"
     ]
    }
   ],
   "source": [
    "print(bfs(adj_list, N*x_0 + y_0))"
   ]
  },
  {
   "cell_type": "code",
   "execution_count": null,
   "id": "4e38a194-b5b3-4bb1-8a6d-dc10b121d3eb",
   "metadata": {},
   "outputs": [],
   "source": []
  }
 ],
 "metadata": {
  "kernelspec": {
   "display_name": "Python 3 (ipykernel)",
   "language": "python",
   "name": "python3"
  },
  "language_info": {
   "codemirror_mode": {
    "name": "ipython",
    "version": 3
   },
   "file_extension": ".py",
   "mimetype": "text/x-python",
   "name": "python",
   "nbconvert_exporter": "python",
   "pygments_lexer": "ipython3",
   "version": "3.10.12"
  }
 },
 "nbformat": 4,
 "nbformat_minor": 5
}
