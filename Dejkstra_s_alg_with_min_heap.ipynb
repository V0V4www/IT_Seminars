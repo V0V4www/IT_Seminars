{
 "cells": [
  {
   "cell_type": "code",
   "execution_count": 2,
   "id": "bfe32aeb-be96-4f34-abb3-de32e60db928",
   "metadata": {},
   "outputs": [],
   "source": [
    "import heapq"
   ]
  },
  {
   "cell_type": "code",
   "execution_count": 3,
   "id": "fc4377b7-9767-4f34-8fbc-0f01feec7ac9",
   "metadata": {},
   "outputs": [],
   "source": [
    "BIG_NUM = 10**6\n",
    "edge_list = [\n",
    "    [0,1],\n",
    "    [1, 2],\n",
    "    [2,3]\n",
    "]\n",
    "\n",
    "edge_list = [\n",
    "    [0,1],\n",
    "    [1,3], [1,6],\n",
    "    [3, 2], [3,7],\n",
    "    [4,2],\n",
    "    [6,3],\n",
    "    [7, 4], [7, 5]\n",
    "]\n",
    "\n",
    "vert_num = 8\n",
    "\n",
    "weight_list = [\n",
    "    5.0, 12.0, 3.8, 7.0, 1.0, 2.0, 4.0, 10.0, 3.0\n",
    "]"
   ]
  },
  {
   "cell_type": "code",
   "execution_count": 8,
   "id": "cc768880-580e-444a-85d0-bc382c413051",
   "metadata": {},
   "outputs": [],
   "source": [
    "def construct_adj_matrix(edge_list, weight_list, vert_num):\n",
    "    adj_matrix = [[BIG_NUM for _ in range(vert_num)] for _ in range(vert_num)]\n",
    "    for edge, weight in zip(edge_list, weight_list):\n",
    "        src = edge[0]\n",
    "        dest = edge[1]\n",
    "        adj_matrix[src][dest] = weight\n",
    "    return adj_matrix"
   ]
  },
  {
   "cell_type": "code",
   "execution_count": 9,
   "id": "9f90c633-6562-415f-938d-6f069383b1c5",
   "metadata": {},
   "outputs": [],
   "source": [
    "def construct_adj_list(edge_list, vert_num):\n",
    "    adj_list = [[] for _ in range(vert_num)]\n",
    "    for edge in edge_list:\n",
    "        src = edge[0]\n",
    "        dest = edge[1]\n",
    "        adj_list[src].append(dest)\n",
    "    return adj_list"
   ]
  },
  {
   "cell_type": "code",
   "execution_count": 10,
   "id": "38d56bde-b071-4e36-b332-e2fadac3b75e",
   "metadata": {},
   "outputs": [],
   "source": [
    "def dijkstra(adj_list, adj_matrix, src):\n",
    "    vert_num = len(adj_list)\n",
    "    dist = [BIG_NUM for i in range(vert_num)]  # dist[i] = Σ_{ребра в пути от src до i} (1), i in [0, vert_num]\n",
    "\n",
    "    dist[src] = 0\n",
    "    dist_n_ind = [i for i in zip(dist, [j for j in range(vert_num)])]\n",
    "    heapq.heapify(dist_n_ind)\n",
    "\n",
    "    while dist_n_ind:\n",
    "        min_, ind_of_min = heapq.heappop(dist_n_ind)\n",
    "        for v in adj_list[ind_of_min]:\n",
    "            weight = adj_matrix[ind_of_min][v]\n",
    "            if dist[v] > min_ + weight:\n",
    "                dist[v] = min_ + weight\n",
    "            heapq.heappush(dist_n_ind, (dist[v], v))\n",
    "    return dist"
   ]
  },
  {
   "cell_type": "code",
   "execution_count": 11,
   "id": "0d531767-14dc-4dd0-8190-602ccf7c87fc",
   "metadata": {},
   "outputs": [
    {
     "name": "stdout",
     "output_type": "stream",
     "text": [
      "[0, 5.0, 19.8, 12.8, 23.8, 16.8, 8.8, 13.8]\n"
     ]
    }
   ],
   "source": [
    "adj_list = construct_adj_list(edge_list, vert_num)\n",
    "adj_matrix = construct_adj_matrix(edge_list, weight_list, vert_num)\n",
    "print(dijkstra(adj_list, adj_matrix, 0))"
   ]
  },
  {
   "cell_type": "code",
   "execution_count": null,
   "id": "dc6203cb-8f0c-4e35-ac6b-32f0ee6e403c",
   "metadata": {},
   "outputs": [],
   "source": []
  }
 ],
 "metadata": {
  "kernelspec": {
   "display_name": "Python 3 (ipykernel)",
   "language": "python",
   "name": "python3"
  },
  "language_info": {
   "codemirror_mode": {
    "name": "ipython",
    "version": 3
   },
   "file_extension": ".py",
   "mimetype": "text/x-python",
   "name": "python",
   "nbconvert_exporter": "python",
   "pygments_lexer": "ipython3",
   "version": "3.10.12"
  }
 },
 "nbformat": 4,
 "nbformat_minor": 5
}
